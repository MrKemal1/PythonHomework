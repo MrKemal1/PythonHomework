{
 "cells": [
  {
   "cell_type": "markdown",
   "id": "7741a3f7-99d6-47ca-b46d-b694f5bfd0e7",
   "metadata": {},
   "source": [
    "# 📄 OCR (Optik Karakter Tanıma) Nedir?"
   ]
  },
  {
   "cell_type": "markdown",
   "id": "95ce6da8-9102-46d5-9b8b-6b0b67d97deb",
   "metadata": {},
   "source": [
    "    OCR (Optical Character Recognition), taranmış belgeler, fotoğraflar veya yazılı metin içeren görsellerden metni algılayıp dijital hale getiren bir teknolojidir. Yaygın kullanım alanları şunlardır:\n",
    "    \n",
    "    Belgeleri dijitalleştirme\n",
    "    \n",
    "    Kimlik, fatura veya fiş tarama\n",
    "    \n",
    "    Plaka tanıma sistemleri"
   ]
  },
  {
   "cell_type": "markdown",
   "id": "e3da4827-d308-4edb-8688-541bea26daa8",
   "metadata": {},
   "source": [
    "## 🛠️ OCR Nasıl Yapılır?\n",
    "    Python programlama dili kullanılarak basit bir OCR işlemi yapılabilir. En yaygın kullanılan kütüphaneler:\n",
    "    \n",
    "    pytesseract: Tesseract OCR motorunu Python üzerinden kullanmamıza olanak tanır.\n",
    "    \n",
    "    Pillow: Görsel işleme için kullanılır.\n",
    "    \n",
    "    opencv-python: Gelişmiş görüntü işleme işlemleri için tercih edilir.\n",
    "    \n"
   ]
  },
  {
   "cell_type": "markdown",
   "id": "7d8caf74-4fd3-44ee-8ee1-7d7d3cc582cf",
   "metadata": {},
   "source": [
    "### ✅ Gereksinimler\n",
    "    Aşağıdaki komutlarla gerekli Python kütüphanelerini yükleyebilirsiniz:"
   ]
  },
  {
   "cell_type": "code",
   "execution_count": null,
   "id": "0920b8e7-ef4b-4f8d-9721-879056114bbf",
   "metadata": {},
   "outputs": [],
   "source": [
    "pip install pytesseract pillow opencv-python"
   ]
  },
  {
   "cell_type": "markdown",
   "id": "3a6654ab-4270-4410-8a68-d1bc1d964e27",
   "metadata": {},
   "source": [
    "    Ayrıca Tesseract'ın kendisini sisteminize kurmanız gerekir:\n",
    "    \n",
    "        -Windows: Tesseract Installer\n",
    "        \n",
    "        -Mac: brew install tesseract\n",
    "        \n",
    "        -Linux (Ubuntu): sudo apt install tesseract-ocr\n",
    "    \n",
    "    Kurulumdan sonra, Tesseract'ın bulunduğu yolu belirtmeniz gerekebilir:"
   ]
  },
  {
   "cell_type": "code",
   "execution_count": null,
   "id": "73ecd77c-214a-4731-a55a-74ce5701abd4",
   "metadata": {},
   "outputs": [],
   "source": [
    "pytesseract.pytesseract.tesseract_cmd = r\"C:\\Program Files\\Tesseract-OCR\\tesseract.exe\"  # Windows örneği"
   ]
  },
  {
   "cell_type": "markdown",
   "id": "de0725c4-4739-449e-8917-7adcdb1768a7",
   "metadata": {},
   "source": [
    "## 📸 Uygulamalı Örnek: Görselden Metin Okuma\n",
    "     Aşağıda bir görsel dosyasından metni okuyan örnek Python kodu yer almaktadır."
   ]
  },
  {
   "cell_type": "code",
   "execution_count": 72,
   "id": "ad704875-f4b1-4c86-a005-551899571260",
   "metadata": {},
   "outputs": [
    {
     "name": "stdout",
     "output_type": "stream",
     "text": [
      "Requirement already satisfied: pytesseract in c:\\users\\ali kemal\\anaconda3\\lib\\site-packages (0.3.13)\n",
      "Requirement already satisfied: pillow in c:\\users\\ali kemal\\anaconda3\\lib\\site-packages (10.4.0)\n",
      "Requirement already satisfied: opencv-python in c:\\users\\ali kemal\\appdata\\roaming\\python\\python312\\site-packages (4.11.0.86)\n",
      "Requirement already satisfied: packaging>=21.3 in c:\\users\\ali kemal\\anaconda3\\lib\\site-packages (from pytesseract) (24.1)\n",
      "Requirement already satisfied: numpy>=1.21.2 in c:\\users\\ali kemal\\anaconda3\\lib\\site-packages (from opencv-python) (1.26.4)\n"
     ]
    }
   ],
   "source": [
    "!pip install pytesseract pillow opencv-python\n"
   ]
  },
  {
   "cell_type": "code",
   "execution_count": 22,
   "id": "183817ec-2227-4ad2-9b53-24d06e8c6cff",
   "metadata": {},
   "outputs": [],
   "source": [
    "from PIL import Image\n",
    "import pytesseract\n",
    "import cv2\n"
   ]
  },
  {
   "cell_type": "code",
   "execution_count": 115,
   "id": "5ad25173-11e1-4a85-ba02-ca01b4bc5886",
   "metadata": {},
   "outputs": [],
   "source": [
    "pytesseract.pytesseract.tesseract_cmd = r\"C:\\Program Files\\Tesseract-OCR\\tesseract.exe\"\n"
   ]
  },
  {
   "cell_type": "code",
   "execution_count": 24,
   "id": "cc37b753-a33a-4bdf-ac82-d649c25e685d",
   "metadata": {},
   "outputs": [],
   "source": [
    "# Görseli yükle\n",
    "image_path = \"resim.png\"\n",
    "img = cv2.imread(image_path)"
   ]
  },
  {
   "cell_type": "code",
   "execution_count": 26,
   "id": "336ca76f-b80c-4a61-8e3b-206691959d31",
   "metadata": {},
   "outputs": [],
   "source": [
    "# Görüntüyü griye dönüştür (ön işleme)\n",
    "gray = cv2.cvtColor(img, cv2.COLOR_BGR2GRAY)\n"
   ]
  },
  {
   "cell_type": "code",
   "execution_count": 28,
   "id": "80a77cf7-6f48-4815-8d84-a6b1f1d96f0e",
   "metadata": {},
   "outputs": [
    {
     "data": {
      "text/plain": [
       "True"
      ]
     },
     "execution_count": 28,
     "metadata": {},
     "output_type": "execute_result"
    }
   ],
   "source": [
    "# Görseli geçici olarak kaydet\n",
    "cv2.imwrite(\"temp.png\", gray)"
   ]
  },
  {
   "cell_type": "code",
   "execution_count": 30,
   "id": "9b0e128a-e168-41a5-9ede-3844405a4b55",
   "metadata": {},
   "outputs": [],
   "source": [
    "# OCR İşlemi\n",
    "text = pytesseract.image_to_string(Image.open(\"temp.png\"), lang=\"eng\")  # Türkçe için \"tur\""
   ]
  },
  {
   "cell_type": "code",
   "execution_count": 38,
   "id": "a3b1a98e-38c5-4bf9-a709-aed3382d316c",
   "metadata": {},
   "outputs": [
    {
     "data": {
      "text/plain": [
       "'Tespit edilen metin:  OCR in Python\\n'"
      ]
     },
     "execution_count": 38,
     "metadata": {},
     "output_type": "execute_result"
    }
   ],
   "source": [
    "\"Tespit edilen metin:  \"+text"
   ]
  },
  {
   "cell_type": "code",
   "execution_count": null,
   "id": "ec581226-4773-48b2-bf94-de5109b32a84",
   "metadata": {},
   "outputs": [],
   "source": []
  }
 ],
 "metadata": {
  "kernelspec": {
   "display_name": "Python [conda env:anaconda3]",
   "language": "python",
   "name": "conda-env-anaconda3-py"
  },
  "language_info": {
   "codemirror_mode": {
    "name": "ipython",
    "version": 3
   },
   "file_extension": ".py",
   "mimetype": "text/x-python",
   "name": "python",
   "nbconvert_exporter": "python",
   "pygments_lexer": "ipython3",
   "version": "3.12.7"
  }
 },
 "nbformat": 4,
 "nbformat_minor": 5
}
