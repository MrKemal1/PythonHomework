{
 "cells": [
  {
   "cell_type": "markdown",
   "id": "fc4c065e",
   "metadata": {},
   "source": [
    "## 📘 Feature Scaling (Özellik Ölçekleme)\n",
    "\n",
    "### 🔍 Neden Özellik Ölçekleme Gerekli?\n",
    "Makine öğrenmesi algoritmalarının çoğu, değişkenlerin ölçeklerinden etkilenir. Özellikle **mesafeye dayalı** (k-NN, SVM, K-Means gibi) ve **gradiente dayalı** algoritmalar (Lojistik Regresyon, Yapay Sinir Ağları) için ölçekleme çok önemlidir.\n",
    "\n",
    "Örneğin:\n",
    "- Bir değişkenin değerleri 0-1 arasında, diğerinin 0-1000 arasında olması modelin dengesini bozabilir.\n",
    "- Büyük ölçekli değişkenler küçük ölçeklileri baskılar.\n"
   ]
  },
  {
   "cell_type": "markdown",
   "id": "3048573c",
   "metadata": {},
   "source": [
    "### ⚙️ Yaygın Ölçekleme Yöntemleri\n",
    "\n",
    "#### 1. **Min-Max Scaling (Normalization)**\n",
    "- Verileri belirli bir aralığa (genelde 0 ile 1) sıkıştırır.\n",
    "\n",
    "> ⚠️ Aykırı değerlere karşı duyarlıdır.\n"
   ]
  },
  {
   "cell_type": "code",
   "execution_count": 3,
   "id": "e7f100b9",
   "metadata": {},
   "outputs": [
    {
     "data": {
      "text/html": [
       "<div>\n",
       "<style scoped>\n",
       "    .dataframe tbody tr th:only-of-type {\n",
       "        vertical-align: middle;\n",
       "    }\n",
       "\n",
       "    .dataframe tbody tr th {\n",
       "        vertical-align: top;\n",
       "    }\n",
       "\n",
       "    .dataframe thead th {\n",
       "        text-align: right;\n",
       "    }\n",
       "</style>\n",
       "<table border=\"1\" class=\"dataframe\">\n",
       "  <thead>\n",
       "    <tr style=\"text-align: right;\">\n",
       "      <th></th>\n",
       "      <th>age</th>\n",
       "      <th>salary</th>\n",
       "    </tr>\n",
       "  </thead>\n",
       "  <tbody>\n",
       "    <tr>\n",
       "      <th>0</th>\n",
       "      <td>0.000000</td>\n",
       "      <td>0.000</td>\n",
       "    </tr>\n",
       "    <tr>\n",
       "      <th>1</th>\n",
       "      <td>0.095238</td>\n",
       "      <td>0.125</td>\n",
       "    </tr>\n",
       "    <tr>\n",
       "      <th>2</th>\n",
       "      <td>0.285714</td>\n",
       "      <td>0.250</td>\n",
       "    </tr>\n",
       "    <tr>\n",
       "      <th>3</th>\n",
       "      <td>0.642857</td>\n",
       "      <td>0.500</td>\n",
       "    </tr>\n",
       "    <tr>\n",
       "      <th>4</th>\n",
       "      <td>1.000000</td>\n",
       "      <td>1.000</td>\n",
       "    </tr>\n",
       "  </tbody>\n",
       "</table>\n",
       "</div>"
      ],
      "text/plain": [
       "        age  salary\n",
       "0  0.000000   0.000\n",
       "1  0.095238   0.125\n",
       "2  0.285714   0.250\n",
       "3  0.642857   0.500\n",
       "4  1.000000   1.000"
      ]
     },
     "execution_count": 3,
     "metadata": {},
     "output_type": "execute_result"
    }
   ],
   "source": [
    "from sklearn.preprocessing import MinMaxScaler\n",
    "import pandas as pd\n",
    "\n",
    "data = pd.DataFrame({\n",
    "    \"age\": [18, 22, 30, 45, 60],\n",
    "    \"salary\": [1000, 1500, 2000, 3000, 5000]\n",
    "})\n",
    "\n",
    "scaler = MinMaxScaler()\n",
    "scaled_data = scaler.fit_transform(data)\n",
    "pd.DataFrame(scaled_data, columns=data.columns)"
   ]
  },
  {
   "cell_type": "markdown",
   "id": "f61acf79",
   "metadata": {},
   "source": [
    "#### 2. **Standardization (Z-Score Normalization)**\n",
    "- Ortalaması 0, standart sapması 1 olan dağılıma dönüştürür.\n",
    "- \n",
    "> ✅ Aykırı değerlere daha dayanıklıdır.\n"
   ]
  },
  {
   "cell_type": "code",
   "execution_count": 5,
   "id": "56cb9f21",
   "metadata": {},
   "outputs": [
    {
     "data": {
      "text/html": [
       "<div>\n",
       "<style scoped>\n",
       "    .dataframe tbody tr th:only-of-type {\n",
       "        vertical-align: middle;\n",
       "    }\n",
       "\n",
       "    .dataframe tbody tr th {\n",
       "        vertical-align: top;\n",
       "    }\n",
       "\n",
       "    .dataframe thead th {\n",
       "        text-align: right;\n",
       "    }\n",
       "</style>\n",
       "<table border=\"1\" class=\"dataframe\">\n",
       "  <thead>\n",
       "    <tr style=\"text-align: right;\">\n",
       "      <th></th>\n",
       "      <th>age</th>\n",
       "      <th>salary</th>\n",
       "    </tr>\n",
       "  </thead>\n",
       "  <tbody>\n",
       "    <tr>\n",
       "      <th>0</th>\n",
       "      <td>-1.093706</td>\n",
       "      <td>-1.060660</td>\n",
       "    </tr>\n",
       "    <tr>\n",
       "      <th>1</th>\n",
       "      <td>-0.836363</td>\n",
       "      <td>-0.707107</td>\n",
       "    </tr>\n",
       "    <tr>\n",
       "      <th>2</th>\n",
       "      <td>-0.321678</td>\n",
       "      <td>-0.353553</td>\n",
       "    </tr>\n",
       "    <tr>\n",
       "      <th>3</th>\n",
       "      <td>0.643356</td>\n",
       "      <td>0.353553</td>\n",
       "    </tr>\n",
       "    <tr>\n",
       "      <th>4</th>\n",
       "      <td>1.608391</td>\n",
       "      <td>1.767767</td>\n",
       "    </tr>\n",
       "  </tbody>\n",
       "</table>\n",
       "</div>"
      ],
      "text/plain": [
       "        age    salary\n",
       "0 -1.093706 -1.060660\n",
       "1 -0.836363 -0.707107\n",
       "2 -0.321678 -0.353553\n",
       "3  0.643356  0.353553\n",
       "4  1.608391  1.767767"
      ]
     },
     "execution_count": 5,
     "metadata": {},
     "output_type": "execute_result"
    }
   ],
   "source": [
    "from sklearn.preprocessing import StandardScaler\n",
    "\n",
    "scaler = StandardScaler()\n",
    "scaled_data = scaler.fit_transform(data)\n",
    "pd.DataFrame(scaled_data, columns=data.columns)"
   ]
  },
  {
   "cell_type": "markdown",
   "id": "692f6395",
   "metadata": {},
   "source": [
    "#### 3. **Robust Scaler**\n",
    "- Ortanca (median) ve IQR (çeyrekler arası açıklık) kullanır.\n",
    "- Aykırı değerlere karşı dayanıklıdır.\n"
   ]
  },
  {
   "cell_type": "code",
   "execution_count": 7,
   "id": "dc13cfec",
   "metadata": {
    "scrolled": true
   },
   "outputs": [
    {
     "data": {
      "text/html": [
       "<div>\n",
       "<style scoped>\n",
       "    .dataframe tbody tr th:only-of-type {\n",
       "        vertical-align: middle;\n",
       "    }\n",
       "\n",
       "    .dataframe tbody tr th {\n",
       "        vertical-align: top;\n",
       "    }\n",
       "\n",
       "    .dataframe thead th {\n",
       "        text-align: right;\n",
       "    }\n",
       "</style>\n",
       "<table border=\"1\" class=\"dataframe\">\n",
       "  <thead>\n",
       "    <tr style=\"text-align: right;\">\n",
       "      <th></th>\n",
       "      <th>age</th>\n",
       "      <th>salary</th>\n",
       "    </tr>\n",
       "  </thead>\n",
       "  <tbody>\n",
       "    <tr>\n",
       "      <th>0</th>\n",
       "      <td>-0.521739</td>\n",
       "      <td>-0.666667</td>\n",
       "    </tr>\n",
       "    <tr>\n",
       "      <th>1</th>\n",
       "      <td>-0.347826</td>\n",
       "      <td>-0.333333</td>\n",
       "    </tr>\n",
       "    <tr>\n",
       "      <th>2</th>\n",
       "      <td>0.000000</td>\n",
       "      <td>0.000000</td>\n",
       "    </tr>\n",
       "    <tr>\n",
       "      <th>3</th>\n",
       "      <td>0.652174</td>\n",
       "      <td>0.666667</td>\n",
       "    </tr>\n",
       "    <tr>\n",
       "      <th>4</th>\n",
       "      <td>1.304348</td>\n",
       "      <td>2.000000</td>\n",
       "    </tr>\n",
       "  </tbody>\n",
       "</table>\n",
       "</div>"
      ],
      "text/plain": [
       "        age    salary\n",
       "0 -0.521739 -0.666667\n",
       "1 -0.347826 -0.333333\n",
       "2  0.000000  0.000000\n",
       "3  0.652174  0.666667\n",
       "4  1.304348  2.000000"
      ]
     },
     "execution_count": 7,
     "metadata": {},
     "output_type": "execute_result"
    }
   ],
   "source": [
    "from sklearn.preprocessing import RobustScaler\n",
    "\n",
    "scaler = RobustScaler()\n",
    "scaled_data = scaler.fit_transform(data)\n",
    "pd.DataFrame(scaled_data, columns=data.columns)"
   ]
  },
  {
   "cell_type": "markdown",
   "id": "ef975079",
   "metadata": {},
   "source": [
    "## ✅ Özet\n",
    "- Özellik ölçekleme, makine öğrenmesi modellerinde daha hızlı ve dengeli öğrenme sağlar.\n",
    "- En yaygın yöntemler: **Min-Max**, **StandardScaler**, **RobustScaler**\n",
    "- Hangi yöntemin kullanılacağı, veri yapısına ve algoritmaya bağlıdır.\n"
   ]
  },
  {
   "cell_type": "code",
   "execution_count": null,
   "id": "9f59f3d5-eaf6-4a3e-9f7b-62ef4dc4bc08",
   "metadata": {},
   "outputs": [],
   "source": []
  },
  {
   "cell_type": "code",
   "execution_count": null,
   "id": "2daba846-0b0c-430e-a969-712c56b6f8ac",
   "metadata": {},
   "outputs": [],
   "source": []
  },
  {
   "cell_type": "code",
   "execution_count": null,
   "id": "d9439c6c-7ad3-49ed-ae48-583f87804afb",
   "metadata": {},
   "outputs": [],
   "source": []
  },
  {
   "cell_type": "code",
   "execution_count": null,
   "id": "aaa78edb-4e22-49b3-883d-1f4f26ad7647",
   "metadata": {},
   "outputs": [],
   "source": []
  },
  {
   "cell_type": "code",
   "execution_count": null,
   "id": "7b83e894-d282-44bc-9bbf-6133d4f7a254",
   "metadata": {},
   "outputs": [],
   "source": []
  },
  {
   "cell_type": "code",
   "execution_count": null,
   "id": "0f14deac-08a7-4f22-a0ac-dd6913f55520",
   "metadata": {},
   "outputs": [],
   "source": []
  },
  {
   "cell_type": "code",
   "execution_count": null,
   "id": "21b22dca-6b73-404d-8d09-916bceff1989",
   "metadata": {},
   "outputs": [],
   "source": []
  },
  {
   "cell_type": "code",
   "execution_count": null,
   "id": "a7f2a9ba-2a5d-4209-b1c1-d201f67f4bdf",
   "metadata": {},
   "outputs": [],
   "source": []
  },
  {
   "cell_type": "code",
   "execution_count": null,
   "id": "fdc31b5e-5da5-44b5-9186-9333fa47e67c",
   "metadata": {},
   "outputs": [],
   "source": []
  },
  {
   "cell_type": "code",
   "execution_count": null,
   "id": "82ac5dec-4f71-44f3-9da4-97bfaa30aa72",
   "metadata": {},
   "outputs": [],
   "source": []
  },
  {
   "cell_type": "code",
   "execution_count": null,
   "id": "bba415d3-8be2-42f1-866d-b47ae53eba0d",
   "metadata": {},
   "outputs": [],
   "source": []
  },
  {
   "cell_type": "code",
   "execution_count": null,
   "id": "a6944f4f-58d3-4ca1-9cd3-f18f9418e80a",
   "metadata": {},
   "outputs": [],
   "source": []
  },
  {
   "cell_type": "code",
   "execution_count": null,
   "id": "074b5ac0-1095-486c-8f2f-7082085eebbc",
   "metadata": {},
   "outputs": [],
   "source": []
  },
  {
   "cell_type": "code",
   "execution_count": null,
   "id": "23b76bfb-1fad-4df7-bdc9-9b177f31645a",
   "metadata": {},
   "outputs": [],
   "source": []
  },
  {
   "cell_type": "code",
   "execution_count": null,
   "id": "b72499d9-5081-4f68-8f16-51bda7b51bd5",
   "metadata": {},
   "outputs": [],
   "source": []
  }
 ],
 "metadata": {
  "kernelspec": {
   "display_name": "Python [conda env:base] *",
   "language": "python",
   "name": "conda-base-py"
  },
  "language_info": {
   "codemirror_mode": {
    "name": "ipython",
    "version": 3
   },
   "file_extension": ".py",
   "mimetype": "text/x-python",
   "name": "python",
   "nbconvert_exporter": "python",
   "pygments_lexer": "ipython3",
   "version": "3.12.7"
  }
 },
 "nbformat": 4,
 "nbformat_minor": 5
}
