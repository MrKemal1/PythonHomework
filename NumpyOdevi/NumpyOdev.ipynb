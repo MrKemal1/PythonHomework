{
 "cells": [
  {
   "cell_type": "code",
   "execution_count": 1,
   "id": "cd7c7718-1171-4b5d-a1cf-7975581dfe58",
   "metadata": {},
   "outputs": [],
   "source": [
    "import numpy as np\n",
    "import pandas as pd"
   ]
  },
  {
   "cell_type": "code",
   "execution_count": 5,
   "id": "862cd3b2-a686-48b9-a2cd-64d28a79bde3",
   "metadata": {},
   "outputs": [
    {
     "name": "stdout",
     "output_type": "stream",
     "text": [
      "1. np.array(): [1 2 3 4 5]\n"
     ]
    },
    {
     "data": {
      "text/plain": [
       "array([1, 2, 3, 4, 5])"
      ]
     },
     "execution_count": 5,
     "metadata": {},
     "output_type": "execute_result"
    }
   ],
   "source": [
    "# 1. np.array() - Bir listeyi NumPy dizisine çevirir.\n",
    "arr = np.array([1, 2, 3, 4, 5])\n",
    "print(\"1. np.array():\", arr)\n",
    "arr\n"
   ]
  },
  {
   "cell_type": "code",
   "execution_count": 6,
   "id": "3328c5c8-a0d4-4eb4-80e4-628e2fceb84e",
   "metadata": {},
   "outputs": [
    {
     "data": {
      "text/plain": [
       "array([[0., 0., 0.],\n",
       "       [0., 0., 0.],\n",
       "       [0., 0., 0.]])"
      ]
     },
     "execution_count": 6,
     "metadata": {},
     "output_type": "execute_result"
    }
   ],
   "source": [
    "# 2. np.zeros() - Belirtilen boyutta tüm elemanları 0 olan bir dizi oluşturur.\n",
    "zeros_arr = np.zeros((3, 3))\n",
    "zeros_arr"
   ]
  },
  {
   "cell_type": "code",
   "execution_count": 7,
   "id": "a158d165-3334-431d-b895-182ec62057af",
   "metadata": {},
   "outputs": [
    {
     "data": {
      "text/plain": [
       "array([[1., 1., 1., 1.],\n",
       "       [1., 1., 1., 1.]])"
      ]
     },
     "execution_count": 7,
     "metadata": {},
     "output_type": "execute_result"
    }
   ],
   "source": [
    "# 3. np.ones() - Belirtilen boyutta tüm elemanları 1 olan bir dizi oluşturur.\n",
    "ones_arr = np.ones((2, 4))\n",
    "ones_arr\n"
   ]
  },
  {
   "cell_type": "code",
   "execution_count": 10,
   "id": "5400e906-c39b-416e-890e-a0c3537e76a8",
   "metadata": {},
   "outputs": [
    {
     "data": {
      "text/plain": [
       "array([ 0. ,  2.5,  5. ,  7.5, 10. ])"
      ]
     },
     "execution_count": 10,
     "metadata": {},
     "output_type": "execute_result"
    }
   ],
   "source": [
    "# 4. np.linspace() - Belirtilen aralıkta eşit aralıklı sayılar içeren bir dizi oluşturur.\n",
    "linspace_arr = np.linspace(0, 10, 5)\n",
    "linspace_arr"
   ]
  },
  {
   "cell_type": "code",
   "execution_count": 11,
   "id": "ea0a11ab-6189-43dd-9c79-7453961178f8",
   "metadata": {},
   "outputs": [
    {
     "data": {
      "text/plain": [
       "array([0, 2, 4, 6, 8])"
      ]
     },
     "execution_count": 11,
     "metadata": {},
     "output_type": "execute_result"
    }
   ],
   "source": [
    "# 5. np.arange() - Belirtilen başlangıç ve bitiş arasında belirli bir adımla dizi oluşturur.\n",
    "arange_arr = np.arange(0, 10, 2)\n",
    "arange_arr"
   ]
  },
  {
   "cell_type": "code",
   "execution_count": 12,
   "id": "910ddc77-1110-4833-99ba-c4489e86463c",
   "metadata": {},
   "outputs": [
    {
     "data": {
      "text/plain": [
       "array([[0.9633946 , 0.8276171 , 0.97427388],\n",
       "       [0.49552471, 0.59110682, 0.42646791],\n",
       "       [0.4689051 , 0.86422959, 0.33053587]])"
      ]
     },
     "execution_count": 12,
     "metadata": {},
     "output_type": "execute_result"
    }
   ],
   "source": [
    "# 6. np.random.rand() - 0 ile 1 arasında rastgele sayılardan oluşan bir dizi oluşturur.\n",
    "random_arr = np.random.rand(3, 3)\n",
    "random_arr"
   ]
  },
  {
   "cell_type": "code",
   "execution_count": 13,
   "id": "6bf65bcd-271e-4fed-a7da-b707fe786687",
   "metadata": {},
   "outputs": [
    {
     "data": {
      "text/plain": [
       "3.0"
      ]
     },
     "execution_count": 13,
     "metadata": {},
     "output_type": "execute_result"
    }
   ],
   "source": [
    "# 7. np.mean() - Bir dizinin ortalama değerini hesaplar.\n",
    "data = np.array([1, 2, 3, 4, 5])\n",
    "mean_value = np.mean(data)\n",
    "mean_value"
   ]
  },
  {
   "cell_type": "code",
   "execution_count": 14,
   "id": "e82af2b1-af07-4656-ac7e-9b7cc6a584f5",
   "metadata": {},
   "outputs": [
    {
     "data": {
      "text/plain": [
       "3.0"
      ]
     },
     "execution_count": 14,
     "metadata": {},
     "output_type": "execute_result"
    }
   ],
   "source": [
    "# 8. np.median() - Bir dizinin medyanını (ortanca değerini) hesaplar.\n",
    "median_value = np.median(data)\n",
    "median_value"
   ]
  },
  {
   "cell_type": "code",
   "execution_count": 15,
   "id": "0113617a-6ae2-4f75-b70c-cfd5e17af51b",
   "metadata": {},
   "outputs": [
    {
     "data": {
      "text/plain": [
       "1.4142135623730951"
      ]
     },
     "execution_count": 15,
     "metadata": {},
     "output_type": "execute_result"
    }
   ],
   "source": [
    "# 9. np.std() - Bir dizinin standart sapmasını hesaplar.\n",
    "std_value = np.std(data)\n",
    "std_value"
   ]
  },
  {
   "cell_type": "code",
   "execution_count": 16,
   "id": "a90c7da3-4809-4f8c-815d-4272572af2c0",
   "metadata": {},
   "outputs": [
    {
     "data": {
      "text/plain": [
       "array([[19, 22],\n",
       "       [43, 50]])"
      ]
     },
     "execution_count": 16,
     "metadata": {},
     "output_type": "execute_result"
    }
   ],
   "source": [
    "# 10. np.dot() - İki matrisin çarpımını hesaplar.\n",
    "matrix1 = np.array([[1, 2], [3, 4]])\n",
    "matrix2 = np.array([[5, 6], [7, 8]])\n",
    "dot_product = np.dot(matrix1, matrix2)\n",
    "dot_product"
   ]
  },
  {
   "cell_type": "code",
   "execution_count": null,
   "id": "d7c8d390-b786-4e7b-873a-caa4208c8f87",
   "metadata": {},
   "outputs": [],
   "source": []
  }
 ],
 "metadata": {
  "kernelspec": {
   "display_name": "Python 3 (ipykernel)",
   "language": "python",
   "name": "python3"
  },
  "language_info": {
   "codemirror_mode": {
    "name": "ipython",
    "version": 3
   },
   "file_extension": ".py",
   "mimetype": "text/x-python",
   "name": "python",
   "nbconvert_exporter": "python",
   "pygments_lexer": "ipython3",
   "version": "3.12.7"
  }
 },
 "nbformat": 4,
 "nbformat_minor": 5
}
